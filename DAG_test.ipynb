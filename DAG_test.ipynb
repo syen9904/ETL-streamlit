{
 "cells": [
  {
   "cell_type": "code",
   "execution_count": 1,
   "metadata": {},
   "outputs": [],
   "source": [
    "import os\n",
    "import sys\n",
    "sys.path.append(os.getcwd() + '/src')\n",
    "from functions import getCodes\n",
    "\n",
    "\n",
    "def find_node(line, keys, false_keys, comment_keys):\n",
    "    for start_key in keys:\n",
    "        if line.find(start_key) >= 0:\n",
    "            start = line.find(start_key) + len(start_key)\n",
    "            end = len(line) + 1\n",
    "            for stop_code in keys[start_key]:\n",
    "                if line[start:].find(stop_code) >= 0:\n",
    "                    if (start > len(start_key) and ' ' in keys[start_key]) and line[start-len(start_key)-1] != ' ':\n",
    "                        continue\n",
    "                    end = min(start + line[start:].find(stop_code), end)\n",
    "            if end > len(line):\n",
    "                continue\n",
    "\n",
    "            node = line[start:end]\n",
    "            key = True\n",
    "\n",
    "            for comment_key in comment_keys:\n",
    "                if line.find(comment_key) >= 0 and line.find(comment_key) < line.find(start_key): \n",
    "                    key = False\n",
    "                    break\n",
    "            if not key: continue\n",
    "\n",
    "            for false_key in false_keys:\n",
    "                if node.find(false_key) == 0: \n",
    "                    key = False\n",
    "                    break\n",
    "            if not key: continue\n",
    "            \n",
    "            if node != '':\n",
    "                if node[0] == '\"' and node[-1] == '\"':\n",
    "                    node = node[1:-1]\n",
    "                if node.find(\"$sourcetablesdb\") >= 0:\n",
    "                    node = 'derived' + node[node.find('.'):-1]\n",
    "                return node\n",
    "    return None\n",
    "\n",
    "def parse(file):\n",
    "    result = {'input': {}, 'output': {}, 'cte': {}}\n",
    "    input_keys = {}\n",
    "    input_keys['sql'] = {'from ': [' ', '\"\"\"', '\\t', ')'], 'join ': [' ', '\\t', ')'], 'using ': [' ', '\\t', ')'], 'table_changes(\"': ['\"']}\n",
    "    input_keys['scala'] = {'read.table(': [')']}\n",
    "    output_keys = {}\n",
    "    output_keys['sql'] = {'merge ': [' ', '\\t'], 'insert ': [' ', '\\t'],'overwrite ': [' ', '\\t'],'table ': [' ', '\\t']}\n",
    "    output_keys['scala'] = {'saveastable(': [')']}\n",
    "    cte_keys = {'with ' : [' as'], ',' : [' as'], ', ': [' as']}\n",
    "    comment_keys = {'//', '--'}\n",
    "    false_keys = ['select', 'into', 'table', 'overwrite', '*', 'if', '(', 'table_changes']\n",
    "\n",
    "    with open(codes[file]['path'], 'r') as f:\n",
    "        text = \"\"\n",
    "        filetype = codes[file]['language']\n",
    "        for line in f:\n",
    "            text = text + line\n",
    "            line = line.lower()[:-1] + ' '\n",
    "            input_key = find_node(line, input_keys[filetype], false_keys, comment_keys)\n",
    "            if input_key is not None:\n",
    "                result['input'][input_key] = (file, line)\n",
    "            output_key = find_node(line, output_keys[filetype], false_keys, comment_keys)\n",
    "            if output_key is not None:\n",
    "                result['output'][output_key] = (file, line)\n",
    "        \n",
    "        cte = {}\n",
    "        for input_key in result['input']:\n",
    "            if text.find(f\"{input_key} as\") >= 0:       #CTE\n",
    "                cte[input_key] = True\n",
    "        for input_key in cte:\n",
    "            result['input'].pop(input_key)\n",
    "\n",
    "    return result"
   ]
  },
  {
   "cell_type": "code",
   "execution_count": 6,
   "metadata": {},
   "outputs": [
    {
     "name": "stdout",
     "output_type": "stream",
     "text": [
      "1348\n"
     ]
    },
    {
     "data": {
      "text/plain": [
       "'\\nfor type in nodes:\\n    print(type)\\n    for node in sorted(list(nodes[type].keys())):\\n        print(f\"{node:40s}{nodes[type][node]}\")\\n'"
      ]
     },
     "execution_count": 6,
     "metadata": {},
     "output_type": "execute_result"
    }
   ],
   "source": [
    "def getEdges():\n",
    "\n",
    "    codes = getCodes(os.getcwd())\n",
    "    nodes = {'input': {}, 'output': {}}\n",
    "    edges = []\n",
    "    #check = ['']\n",
    "    for file in codes: \n",
    "        #if file.find('C125') < 0: continue\n",
    "        result = parse(file)\n",
    "        for type in result:\n",
    "            for node in list(result[type].keys()):\n",
    "                if node in check: print(f\"[{node}]\\n{result[type][node]}\\n\")\n",
    "                nodes[type][node] = (nodes[type][node] + 1) if node in nodes[type] else 1\n",
    "        for a in list(result['input'].keys()):\n",
    "            for b in list(result['output'].keys()):\n",
    "                edges.append((a, b))\n",
    "\n",
    "    print(len(edges))\n",
    "    return edges\n",
    "\n",
    "\"\"\"\n",
    "for type in nodes:\n",
    "    print(type)\n",
    "    for node in sorted(list(nodes[type].keys())):\n",
    "        print(f\"{node:40s}{nodes[type][node]}\")\n",
    "\"\"\""
   ]
  },
  {
   "cell_type": "code",
   "execution_count": 30,
   "metadata": {},
   "outputs": [
    {
     "name": "stdout",
     "output_type": "stream",
     "text": [
      "1348\n"
     ]
    },
    {
     "data": {
      "text/plain": [
       "'\\nfor type in nodes:\\n    print(type)\\n    for node in sorted(list(nodes[type].keys())):\\n        print(f\"{node:40s}{nodes[type][node]}\")\\n'"
      ]
     },
     "execution_count": 30,
     "metadata": {},
     "output_type": "execute_result"
    }
   ],
   "source": [
    "import sys\n",
    "sys.path.append(os.getcwd() + '/src')\n",
    "from functions import getCodes\n",
    "codes = getCodes(os.getcwd())\n",
    "nodes = {'input': {}, 'output': {}}\n",
    "edges = []\n",
    "check = ['']\n",
    "omop_table = ['person', 'observation_period', 'visit_occurrence', 'visit_detail'\n",
    "'condition_occurrence',\n",
    "'drug_exposure',\n",
    "'procedure_occurrence'\n",
    ",'device_exposure'\n",
    ",'measurement'\n",
    ",'observation'\n",
    ",'death'\n",
    ",'location'\n",
    ",'care_site'\n",
    ",'provider'\n",
    ",'payer_plan_period'\n",
    ",'cost'\n",
    ",'drug_era'\n",
    ",'dose_era'\n",
    ",'condition_era'\n",
    ",'episode'\n",
    ",'episode_event'\n",
    ",'metadata'\n",
    ",'cdm_source'\n",
    ",'concept'\n",
    ",'vocabulary'\n",
    "]\n",
    "for file in codes: \n",
    "    #if file.find('C125') < 0: continue\n",
    "    result = parse(file)\n",
    "    for type in result:\n",
    "        for node in list(result[type].keys()):\n",
    "            if node in check: print(f\"[{node}]\\n{result[type][node]}\\n\")\n",
    "            nodes[type][node] = (nodes[type][node] + 1) if node in nodes[type] else 1\n",
    "    for a in list(result['input'].keys()):\n",
    "        for b in list(result['output'].keys()):\n",
    "            #if b in omop_table:\n",
    "            edges.append((a, b))\n",
    "\n",
    "print(len(edges))\n",
    "\n",
    "\"\"\"\n",
    "for type in nodes:\n",
    "    print(type)\n",
    "    for node in sorted(list(nodes[type].keys())):\n",
    "        print(f\"{node:40s}{nodes[type][node]}\")\n",
    "\"\"\""
   ]
  },
  {
   "cell_type": "code",
   "execution_count": 31,
   "metadata": {},
   "outputs": [],
   "source": [
    "import streamlit as st\n",
    "import networkx as nx\n",
    "from pyvis.network import Network\n",
    "from streamlit.components.v1 import html\n",
    "\n",
    "def create_dag(edges):\n",
    "    G = nx.DiGraph()\n",
    "    G.add_edges_from(edges)\n",
    "    print(nx.is_directed_acyclic_graph(G))\n",
    "    return G\n",
    "\n",
    "def draw_graph(G, highlight=None):\n",
    "    nt = Network('500px', '500px', directed=True, notebook=False)\n",
    "    nt.from_nx(G)\n",
    "\n",
    "    if highlight:\n",
    "        # Highlight the selected node and its neighbors\n",
    "        for node in nt.nodes:\n",
    "            if node['id'] == highlight or node['id'] in [n for n in nx.all_neighbors(G, highlight)]:\n",
    "                node['color'] = 'red'\n",
    "            else:\n",
    "                node['color'] = '#D2E5FF'\n",
    "            print('exec')\n",
    "    \n",
    "    # Save the network to an HTML file\n",
    "    nt.save_graph('dag.html')\n",
    "\n"
   ]
  },
  {
   "cell_type": "code",
   "execution_count": 32,
   "metadata": {},
   "outputs": [
    {
     "name": "stdout",
     "output_type": "stream",
     "text": [
      "False\n"
     ]
    }
   ],
   "source": [
    "def app():\n",
    "    G = create_dag(edges)\n",
    "    \n",
    "    #st.title('Interactive DAG Visualization')\n",
    "    #selected_node = st.selectbox('Select a node to highlight', options=G.nodes())\n",
    "    \n",
    "    # Draw graph with or without a highlight and save to HTML\n",
    "    draw_graph(G)\n",
    "\n",
    "    # Display the HTML file in Streamlit\n",
    "    #HtmlFile = open('dag.html', 'r', encoding='utf-8')\n",
    "    #source_code = HtmlFile.read() \n",
    "    #html(source_code, height=500)\n",
    "\n",
    "app()\n"
   ]
  },
  {
   "cell_type": "code",
   "execution_count": null,
   "metadata": {},
   "outputs": [],
   "source": [
    "for a, b in edges:\n",
    "    if a.find('clarity.')>=0: print(a)"
   ]
  },
  {
   "cell_type": "code",
   "execution_count": 40,
   "metadata": {},
   "outputs": [
    {
     "data": {
      "text/plain": [
       "DeltaGenerator()"
      ]
     },
     "execution_count": 40,
     "metadata": {},
     "output_type": "execute_result"
    }
   ],
   "source": [
    "import streamlit as st\n",
    "import networkx as nx\n",
    "import matplotlib.pyplot as plt\n",
    "\n",
    "# Create a sample directed graph\n",
    "G = nx.DiGraph()\n",
    "G.add_edge('A', 'B')\n",
    "G.add_edge('B', 'C')\n",
    "G.add_edge('C', 'A')\n",
    "\n",
    "# Draw the graph\n",
    "plt.figure(figsize=(8, 8))\n",
    "nx.draw(G, with_labels=True, node_color='skyblue', edge_color='k', node_size=2000, arrowstyle='-|>', arrowsize=20)\n",
    "st.pyplot(plt)\n"
   ]
  }
 ],
 "metadata": {
  "kernelspec": {
   "display_name": "Python 3",
   "language": "python",
   "name": "python3"
  },
  "language_info": {
   "codemirror_mode": {
    "name": "ipython",
    "version": 3
   },
   "file_extension": ".py",
   "mimetype": "text/x-python",
   "name": "python",
   "nbconvert_exporter": "python",
   "pygments_lexer": "ipython3",
   "version": "3.11.8"
  },
  "orig_nbformat": 4
 },
 "nbformat": 4,
 "nbformat_minor": 2
}
