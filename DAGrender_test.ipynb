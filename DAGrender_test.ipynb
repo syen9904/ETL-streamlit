{
 "cells": [
  {
   "cell_type": "code",
   "execution_count": 1,
   "metadata": {},
   "outputs": [
    {
     "name": "stderr",
     "output_type": "stream",
     "text": [
      "2024-05-07 01:44:49.909 \n",
      "  \u001b[33m\u001b[1mWarning:\u001b[0m to view this Streamlit app on a browser, run it with the following\n",
      "  command:\n",
      "\n",
      "    streamlit run /opt/homebrew/lib/python3.11/site-packages/ipykernel_launcher.py [ARGUMENTS]\n",
      "2024-05-07 01:44:49.909 Session state does not function when running a script without `streamlit run`\n"
     ]
    },
    {
     "name": "stdout",
     "output_type": "stream",
     "text": [
      "exec\n",
      "exec\n",
      "exec\n",
      "exec\n"
     ]
    }
   ],
   "source": [
    "import streamlit as st\n",
    "import networkx as nx\n",
    "from pyvis.network import Network\n",
    "from streamlit.components.v1 import html\n",
    "\n",
    "def create_dag():\n",
    "    G = nx.DiGraph()\n",
    "    edges = [('A', 'B'), ('A', 'C'), ('B', 'D'), ('C', 'D')]\n",
    "    G.add_edges_from(edges)\n",
    "    return G\n",
    "\n",
    "def draw_graph(G, highlight=None):\n",
    "    nt = Network('500px', '500px', directed=True, notebook=False)\n",
    "    nt.from_nx(G)\n",
    "\n",
    "    if highlight:\n",
    "        # Highlight the selected node and its neighbors\n",
    "        for node in nt.nodes:\n",
    "            if node['id'] == highlight or node['id'] in [n for n in nx.all_neighbors(G, highlight)]:\n",
    "                node['color'] = 'red'\n",
    "            else:\n",
    "                node['color'] = '#D2E5FF'\n",
    "            print('exec')\n",
    "    \n",
    "    # Save the network to an HTML file\n",
    "    nt.save_graph('dag.html')\n",
    "\n",
    "def app():\n",
    "    G = create_dag()\n",
    "    \n",
    "    st.title('Interactive DAG Visualization')\n",
    "    selected_node = st.selectbox('Select a node to highlight', options=G.nodes())\n",
    "    \n",
    "    # Draw graph with or without a highlight and save to HTML\n",
    "    draw_graph(G, highlight=selected_node)\n",
    "\n",
    "    # Display the HTML file in Streamlit\n",
    "    HtmlFile = open('dag.html', 'r', encoding='utf-8')\n",
    "    source_code = HtmlFile.read() \n",
    "    html(source_code, height=500)\n",
    "\n",
    "app()\n"
   ]
  },
  {
   "cell_type": "markdown",
   "metadata": {},
   "source": []
  }
 ],
 "metadata": {
  "kernelspec": {
   "display_name": "Python 3",
   "language": "python",
   "name": "python3"
  },
  "language_info": {
   "codemirror_mode": {
    "name": "ipython",
    "version": 3
   },
   "file_extension": ".py",
   "mimetype": "text/x-python",
   "name": "python",
   "nbconvert_exporter": "python",
   "pygments_lexer": "ipython3",
   "version": "3.11.8"
  },
  "orig_nbformat": 4
 },
 "nbformat": 4,
 "nbformat_minor": 2
}
